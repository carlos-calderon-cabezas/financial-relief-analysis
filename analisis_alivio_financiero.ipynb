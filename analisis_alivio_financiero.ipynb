{
 "cells": [
  {
   "cell_type": "markdown",
   "id": "f3edad04",
   "metadata": {},
   "source": [
    "# Análisis de campañas de alivio financiero y propuesta para recuperación de cartera vencida en una entidad financiera"
   ]
  },
  {
   "cell_type": "markdown",
   "id": "f3548883",
   "metadata": {},
   "source": [
    "## Breve descripción del proyecto"
   ]
  },
  {
   "cell_type": "markdown",
   "id": "63cddf11",
   "metadata": {},
   "source": [
    "En el presente proyecto, se realiza el análisis de los datos correspondientes a una campaña que realiza la entidad financiera, a la cual se la referirá mediante el nombre ficticio ***Mi Banco Feliz***, cuyo objetivo es lanzar 2 campañas en pro de sus clientes en estado de mora a fin de recuperar más de un 60% de la cartera vencida que se mantiene con corte a la fecha de este proyecto, es decir, Junio de 2025.\n",
    "\n",
    "Se realiza este análisis debido a que las campañas de alivio financiero, llamadas diferimiento y normalización, han tenido baja efectividad en cuanto a recuperación monetaria frente a las metas previamente establecidas por el departamento de cobranzas de la Entidad.\n",
    "\n",
    "Se van a responder a las siguientes preguntas para poder entender de mejor manera cuál es el problema actual y de que manera se podría brindar una solución que satizfaga tanto las necesidades del Banco sin descuidar el bienestar del cliente:\n",
    "\n",
    "1. ¿Qué perfiles de clientes están siendo atendidos por cada campaña y canal?\n",
    "2. ¿Cómo podría optimizarse el enfoque actual para mejorar la efectividad de las campañas?\n",
    "\n",
    "**Nota:** *A lo largo del presente reporte se analizan datos reales, mismos que han sido debidamente ofuscados y/o omitidos intencionalmente con el fin de proteger posible información sensible, así como por mantener respeto y apego hacia las leyes de protección de datos tanto locales como internacionales.*"
   ]
  },
  {
   "cell_type": "markdown",
   "id": "d2a0ba55",
   "metadata": {},
   "source": [
    "## Carga del conjunto de datos en Pandas"
   ]
  },
  {
   "cell_type": "markdown",
   "id": "1762a56e",
   "metadata": {},
   "source": [
    "Se importa la librería *pandas*, se carga el dataset y se muestran sus parámetros descriptivos incluyendo sus primeras filas, información general de tipos de datos, evaluación inicial de valores nulos, así como estadísticas descriptivas preliminares que otorga esta librería."
   ]
  },
  {
   "cell_type": "code",
   "execution_count": 34,
   "id": "deab7dd0",
   "metadata": {},
   "outputs": [],
   "source": [
    "import pandas as pd\n",
    "import numpy as np"
   ]
  },
  {
   "cell_type": "code",
   "execution_count": 21,
   "id": "1e539efc",
   "metadata": {},
   "outputs": [],
   "source": [
    "df_morosidad = pd.read_csv(\"df_morosidad.csv\")"
   ]
  },
  {
   "cell_type": "markdown",
   "id": "0401e0bb",
   "metadata": {},
   "source": [
    "## Limpieza y preprocesamiento de la información"
   ]
  },
  {
   "cell_type": "markdown",
   "id": "3cffe721",
   "metadata": {},
   "source": [
    "En este análisis se va a revisar la calidad y consistencia de la información de entrada, incluyendo la posible existencia de valores nulos o en blanco, datos atípicos, entre otros."
   ]
  },
  {
   "cell_type": "code",
   "execution_count": 22,
   "id": "e17a6715",
   "metadata": {},
   "outputs": [
    {
     "data": {
      "text/html": [
       "<div>\n",
       "<style scoped>\n",
       "    .dataframe tbody tr th:only-of-type {\n",
       "        vertical-align: middle;\n",
       "    }\n",
       "\n",
       "    .dataframe tbody tr th {\n",
       "        vertical-align: top;\n",
       "    }\n",
       "\n",
       "    .dataframe thead th {\n",
       "        text-align: right;\n",
       "    }\n",
       "</style>\n",
       "<table border=\"1\" class=\"dataframe\">\n",
       "  <thead>\n",
       "    <tr style=\"text-align: right;\">\n",
       "      <th></th>\n",
       "      <th>codigo_cliente</th>\n",
       "      <th>rango_morosidad</th>\n",
       "      <th>monto_credito</th>\n",
       "      <th>monto_por_vencer</th>\n",
       "      <th>monto_vencido</th>\n",
       "      <th>intereses</th>\n",
       "      <th>producto_host</th>\n",
       "      <th>dias_mora</th>\n",
       "      <th>gestor</th>\n",
       "      <th>recibe_sueldo_fijo</th>\n",
       "      <th>region</th>\n",
       "      <th>sector_general</th>\n",
       "    </tr>\n",
       "  </thead>\n",
       "  <tbody>\n",
       "    <tr>\n",
       "      <th>0</th>\n",
       "      <td>DNI-9502992</td>\n",
       "      <td>31 - 60 DIAS</td>\n",
       "      <td>8045.23</td>\n",
       "      <td>5686.38</td>\n",
       "      <td>0.00</td>\n",
       "      <td>143.94</td>\n",
       "      <td>PRECISO</td>\n",
       "      <td>36</td>\n",
       "      <td>RED COMERCIAL</td>\n",
       "      <td>SÍ</td>\n",
       "      <td>SIERRA</td>\n",
       "      <td>SECTOR PÚBLICO</td>\n",
       "    </tr>\n",
       "    <tr>\n",
       "      <th>1</th>\n",
       "      <td>DNI-5110681</td>\n",
       "      <td>16 - 30 DIAS</td>\n",
       "      <td>5924.60</td>\n",
       "      <td>0.00</td>\n",
       "      <td>92.60</td>\n",
       "      <td>98.97</td>\n",
       "      <td>PRECISO</td>\n",
       "      <td>22</td>\n",
       "      <td>DIGITAL</td>\n",
       "      <td>NO</td>\n",
       "      <td>SIERRA</td>\n",
       "      <td>TRANSPORTE Y LOGÍSTICA</td>\n",
       "    </tr>\n",
       "    <tr>\n",
       "      <th>2</th>\n",
       "      <td>DNI-6527606</td>\n",
       "      <td>6 - 15 DIAS</td>\n",
       "      <td>5125.55</td>\n",
       "      <td>0.00</td>\n",
       "      <td>74.08</td>\n",
       "      <td>148.94</td>\n",
       "      <td>PRECISO</td>\n",
       "      <td>10</td>\n",
       "      <td>DIGITAL</td>\n",
       "      <td>NO</td>\n",
       "      <td>COSTA</td>\n",
       "      <td>COMERCIO</td>\n",
       "    </tr>\n",
       "    <tr>\n",
       "      <th>3</th>\n",
       "      <td>DNI-5095519</td>\n",
       "      <td>16 - 30 DIAS</td>\n",
       "      <td>4848.91</td>\n",
       "      <td>0.00</td>\n",
       "      <td>142.72</td>\n",
       "      <td>65.76</td>\n",
       "      <td>PRECISO</td>\n",
       "      <td>23</td>\n",
       "      <td>DIGITAL</td>\n",
       "      <td>NO</td>\n",
       "      <td>SIERRA</td>\n",
       "      <td>COMERCIO</td>\n",
       "    </tr>\n",
       "    <tr>\n",
       "      <th>4</th>\n",
       "      <td>DNI-9856629</td>\n",
       "      <td>16 - 30 DIAS</td>\n",
       "      <td>6621.77</td>\n",
       "      <td>5462.92</td>\n",
       "      <td>0.00</td>\n",
       "      <td>127.39</td>\n",
       "      <td>PRECISO</td>\n",
       "      <td>28</td>\n",
       "      <td>RED COMERCIAL</td>\n",
       "      <td>NO</td>\n",
       "      <td>SIERRA</td>\n",
       "      <td>SERVICIOS</td>\n",
       "    </tr>\n",
       "  </tbody>\n",
       "</table>\n",
       "</div>"
      ],
      "text/plain": [
       "  codigo_cliente rango_morosidad  monto_credito  monto_por_vencer  \\\n",
       "0    DNI-9502992    31 - 60 DIAS        8045.23           5686.38   \n",
       "1    DNI-5110681    16 - 30 DIAS        5924.60              0.00   \n",
       "2    DNI-6527606     6 - 15 DIAS        5125.55              0.00   \n",
       "3    DNI-5095519    16 - 30 DIAS        4848.91              0.00   \n",
       "4    DNI-9856629    16 - 30 DIAS        6621.77           5462.92   \n",
       "\n",
       "   monto_vencido  intereses producto_host  dias_mora         gestor  \\\n",
       "0           0.00     143.94       PRECISO         36  RED COMERCIAL   \n",
       "1          92.60      98.97       PRECISO         22        DIGITAL   \n",
       "2          74.08     148.94       PRECISO         10        DIGITAL   \n",
       "3         142.72      65.76       PRECISO         23        DIGITAL   \n",
       "4           0.00     127.39       PRECISO         28  RED COMERCIAL   \n",
       "\n",
       "  recibe_sueldo_fijo  region          sector_general  \n",
       "0                 SÍ  SIERRA          SECTOR PÚBLICO  \n",
       "1                 NO  SIERRA  TRANSPORTE Y LOGÍSTICA  \n",
       "2                 NO   COSTA                COMERCIO  \n",
       "3                 NO  SIERRA                COMERCIO  \n",
       "4                 NO  SIERRA               SERVICIOS  "
      ]
     },
     "execution_count": 22,
     "metadata": {},
     "output_type": "execute_result"
    }
   ],
   "source": [
    "df_morosidad.head()"
   ]
  },
  {
   "cell_type": "code",
   "execution_count": 23,
   "id": "a998b0ca",
   "metadata": {},
   "outputs": [
    {
     "name": "stdout",
     "output_type": "stream",
     "text": [
      "<class 'pandas.core.frame.DataFrame'>\n",
      "RangeIndex: 4115 entries, 0 to 4114\n",
      "Data columns (total 12 columns):\n",
      " #   Column              Non-Null Count  Dtype  \n",
      "---  ------              --------------  -----  \n",
      " 0   codigo_cliente      4115 non-null   object \n",
      " 1   rango_morosidad     4115 non-null   object \n",
      " 2   monto_credito       4115 non-null   float64\n",
      " 3   monto_por_vencer    4115 non-null   float64\n",
      " 4   monto_vencido       4115 non-null   float64\n",
      " 5   intereses           4115 non-null   float64\n",
      " 6   producto_host       4115 non-null   object \n",
      " 7   dias_mora           4115 non-null   int64  \n",
      " 8   gestor              4115 non-null   object \n",
      " 9   recibe_sueldo_fijo  4115 non-null   object \n",
      " 10  region              4115 non-null   object \n",
      " 11  sector_general      4115 non-null   object \n",
      "dtypes: float64(4), int64(1), object(7)\n",
      "memory usage: 385.9+ KB\n"
     ]
    }
   ],
   "source": [
    "df_morosidad.info()"
   ]
  },
  {
   "cell_type": "code",
   "execution_count": 24,
   "id": "74fc1ca4",
   "metadata": {},
   "outputs": [
    {
     "data": {
      "text/html": [
       "<div>\n",
       "<style scoped>\n",
       "    .dataframe tbody tr th:only-of-type {\n",
       "        vertical-align: middle;\n",
       "    }\n",
       "\n",
       "    .dataframe tbody tr th {\n",
       "        vertical-align: top;\n",
       "    }\n",
       "\n",
       "    .dataframe thead th {\n",
       "        text-align: right;\n",
       "    }\n",
       "</style>\n",
       "<table border=\"1\" class=\"dataframe\">\n",
       "  <thead>\n",
       "    <tr style=\"text-align: right;\">\n",
       "      <th></th>\n",
       "      <th>monto_credito</th>\n",
       "      <th>monto_por_vencer</th>\n",
       "      <th>monto_vencido</th>\n",
       "      <th>intereses</th>\n",
       "      <th>dias_mora</th>\n",
       "    </tr>\n",
       "  </thead>\n",
       "  <tbody>\n",
       "    <tr>\n",
       "      <th>count</th>\n",
       "      <td>4115.000000</td>\n",
       "      <td>4115.000000</td>\n",
       "      <td>4115.000000</td>\n",
       "      <td>4115.000000</td>\n",
       "      <td>4115.000000</td>\n",
       "    </tr>\n",
       "    <tr>\n",
       "      <th>mean</th>\n",
       "      <td>9889.804168</td>\n",
       "      <td>3742.993896</td>\n",
       "      <td>62.615878</td>\n",
       "      <td>165.204522</td>\n",
       "      <td>26.249332</td>\n",
       "    </tr>\n",
       "    <tr>\n",
       "      <th>std</th>\n",
       "      <td>11221.651826</td>\n",
       "      <td>7083.584846</td>\n",
       "      <td>135.121374</td>\n",
       "      <td>181.270760</td>\n",
       "      <td>13.370148</td>\n",
       "    </tr>\n",
       "    <tr>\n",
       "      <th>min</th>\n",
       "      <td>1124.280000</td>\n",
       "      <td>0.000000</td>\n",
       "      <td>0.000000</td>\n",
       "      <td>9.210000</td>\n",
       "      <td>10.000000</td>\n",
       "    </tr>\n",
       "    <tr>\n",
       "      <th>25%</th>\n",
       "      <td>4401.505000</td>\n",
       "      <td>0.000000</td>\n",
       "      <td>0.000000</td>\n",
       "      <td>60.200000</td>\n",
       "      <td>15.000000</td>\n",
       "    </tr>\n",
       "    <tr>\n",
       "      <th>50%</th>\n",
       "      <td>7072.150000</td>\n",
       "      <td>1493.760000</td>\n",
       "      <td>0.000000</td>\n",
       "      <td>113.110000</td>\n",
       "      <td>23.000000</td>\n",
       "    </tr>\n",
       "    <tr>\n",
       "      <th>75%</th>\n",
       "      <td>11161.935000</td>\n",
       "      <td>5186.860000</td>\n",
       "      <td>90.080000</td>\n",
       "      <td>204.440000</td>\n",
       "      <td>35.000000</td>\n",
       "    </tr>\n",
       "    <tr>\n",
       "      <th>max</th>\n",
       "      <td>209131.960000</td>\n",
       "      <td>138940.420000</td>\n",
       "      <td>3322.440000</td>\n",
       "      <td>2439.470000</td>\n",
       "      <td>60.000000</td>\n",
       "    </tr>\n",
       "  </tbody>\n",
       "</table>\n",
       "</div>"
      ],
      "text/plain": [
       "       monto_credito  monto_por_vencer  monto_vencido    intereses  \\\n",
       "count    4115.000000       4115.000000    4115.000000  4115.000000   \n",
       "mean     9889.804168       3742.993896      62.615878   165.204522   \n",
       "std     11221.651826       7083.584846     135.121374   181.270760   \n",
       "min      1124.280000          0.000000       0.000000     9.210000   \n",
       "25%      4401.505000          0.000000       0.000000    60.200000   \n",
       "50%      7072.150000       1493.760000       0.000000   113.110000   \n",
       "75%     11161.935000       5186.860000      90.080000   204.440000   \n",
       "max    209131.960000     138940.420000    3322.440000  2439.470000   \n",
       "\n",
       "         dias_mora  \n",
       "count  4115.000000  \n",
       "mean     26.249332  \n",
       "std      13.370148  \n",
       "min      10.000000  \n",
       "25%      15.000000  \n",
       "50%      23.000000  \n",
       "75%      35.000000  \n",
       "max      60.000000  "
      ]
     },
     "execution_count": 24,
     "metadata": {},
     "output_type": "execute_result"
    }
   ],
   "source": [
    "df_morosidad.describe()"
   ]
  },
  {
   "cell_type": "markdown",
   "id": "63185dbf",
   "metadata": {},
   "source": [
    "### Verificación de posibles valores blancos o nulos"
   ]
  },
  {
   "cell_type": "code",
   "execution_count": 25,
   "id": "dc0344bb",
   "metadata": {},
   "outputs": [
    {
     "data": {
      "text/plain": [
       "codigo_cliente        0\n",
       "rango_morosidad       0\n",
       "monto_credito         0\n",
       "monto_por_vencer      0\n",
       "monto_vencido         0\n",
       "intereses             0\n",
       "producto_host         0\n",
       "dias_mora             0\n",
       "gestor                0\n",
       "recibe_sueldo_fijo    0\n",
       "region                0\n",
       "sector_general        0\n",
       "dtype: int64"
      ]
     },
     "execution_count": 25,
     "metadata": {},
     "output_type": "execute_result"
    }
   ],
   "source": [
    "df_morosidad.isna().sum()"
   ]
  },
  {
   "cell_type": "markdown",
   "id": "7f7a910a",
   "metadata": {},
   "source": [
    "Se puede ver en la celda anterior que de manera preliminar no se cuenta con valores nulos en el presente conjunto de datos, por lo cual se procede a verificar si hay valores nulos según el contexto del negocio así como valores inconsistentes."
   ]
  },
  {
   "cell_type": "markdown",
   "id": "d9fca491",
   "metadata": {},
   "source": [
    "### Verificación de posibles valores inconsistentes"
   ]
  },
  {
   "cell_type": "markdown",
   "id": "88120f93",
   "metadata": {},
   "source": [
    "Se realiza un análisis de los valores únicos por cada columna para determinar si podría resultar conveniente convertirlos al tipo categórico de pandas."
   ]
  },
  {
   "cell_type": "code",
   "execution_count": 26,
   "id": "30785fc0",
   "metadata": {},
   "outputs": [
    {
     "data": {
      "text/plain": [
       "codigo_cliente         object\n",
       "rango_morosidad        object\n",
       "monto_credito         float64\n",
       "monto_por_vencer      float64\n",
       "monto_vencido         float64\n",
       "intereses             float64\n",
       "producto_host          object\n",
       "dias_mora               int64\n",
       "gestor                 object\n",
       "recibe_sueldo_fijo     object\n",
       "region                 object\n",
       "sector_general         object\n",
       "dtype: object"
      ]
     },
     "execution_count": 26,
     "metadata": {},
     "output_type": "execute_result"
    }
   ],
   "source": [
    "df_morosidad.dtypes"
   ]
  },
  {
   "cell_type": "code",
   "execution_count": 27,
   "id": "24ea50a2",
   "metadata": {},
   "outputs": [
    {
     "name": "stdout",
     "output_type": "stream",
     "text": [
      "Valores únicos en \"rango_morosidad\":\n",
      "['31 - 60 DIAS' '16 - 30 DIAS' '6 - 15 DIAS']\n",
      "--------------------------------------------------\n",
      "Valores únicos en \"producto_host\":\n",
      "['PRECISO' 'AUTOS' 'PRODUCTO MUJER' 'PRODUCTIVO' 'MICROFINANZAS' 'HABITAR']\n",
      "--------------------------------------------------\n",
      "Valores únicos en \"gestor\":\n",
      "['RED COMERCIAL' 'DIGITAL']\n",
      "--------------------------------------------------\n",
      "Valores únicos en \"recibe_sueldo_fijo\":\n",
      "['SÍ' 'NO']\n",
      "--------------------------------------------------\n",
      "Valores únicos en \"region\":\n",
      "['SIERRA' 'COSTA' 'AMAZONIA' 'NO_ESPECIFICADO' 'GALAPAGOS']\n",
      "--------------------------------------------------\n",
      "Valores únicos en \"sector_general\":\n",
      "['SECTOR PÚBLICO' 'TRANSPORTE Y LOGÍSTICA' 'COMERCIO' 'SERVICIOS'\n",
      " 'INDUSTRIA / MANUFACTURA' 'MINERÍA Y EXTRACCIÓN'\n",
      " 'SIN ACTIVIDAD ECONÓMICA' 'EDUCACIÓN Y SALUD' 'INDUSTRIA'\n",
      " 'SECTOR FINANCIERO' 'AGROPECUARIO' 'CONSTRUCCIÓN'\n",
      " 'TECNOLOGÍA Y TELECOMUNICACIONES']\n",
      "--------------------------------------------------\n"
     ]
    }
   ],
   "source": [
    "posibles_columnas_categoricas = [\n",
    "    \"rango_morosidad\",\n",
    "    \"producto_host\",\n",
    "    \"gestor\",\n",
    "    \"recibe_sueldo_fijo\",\n",
    "    \"region\",\n",
    "    \"sector_general\"\n",
    "]\n",
    "\n",
    "for col in posibles_columnas_categoricas:\n",
    "    print(f'Valores únicos en \"{col}\":')\n",
    "    print(df_morosidad[col].unique())\n",
    "    print(\"-\" * 50)"
   ]
  },
  {
   "cell_type": "markdown",
   "id": "4fc8c10d",
   "metadata": {},
   "source": [
    "Se puede observar que no existen valores inconsistentes al haber analizado los valores únicos en cada columna las columnas o variables ***rango_morosidad***, ***producto_host***, ***gestor***, ***recibe_sueldo_fijo***, ***region*** y ***sector_general*** pueden convertirse a un tipo de variable categórico. Además la variable ***recibe_sueldo_fijo*** puede convertirse a binaria para un procesamiento más eficiente."
   ]
  },
  {
   "cell_type": "code",
   "execution_count": 28,
   "id": "672f0d96",
   "metadata": {},
   "outputs": [],
   "source": [
    "df_morosidad[posibles_columnas_categoricas] = df_morosidad[posibles_columnas_categoricas].astype(\"category\")\n",
    "df_morosidad[\"recibe_sueldo_fijo\"] = df_morosidad[\"recibe_sueldo_fijo\"]\\\n",
    "    .map({\"SI\": True, \"NO\": False}).astype(\"bool\")"
   ]
  },
  {
   "cell_type": "code",
   "execution_count": 29,
   "id": "aedba7ab",
   "metadata": {},
   "outputs": [
    {
     "data": {
      "text/plain": [
       "codigo_cliente          object\n",
       "rango_morosidad       category\n",
       "monto_credito          float64\n",
       "monto_por_vencer       float64\n",
       "monto_vencido          float64\n",
       "intereses              float64\n",
       "producto_host         category\n",
       "dias_mora                int64\n",
       "gestor                category\n",
       "recibe_sueldo_fijo        bool\n",
       "region                category\n",
       "sector_general        category\n",
       "dtype: object"
      ]
     },
     "execution_count": 29,
     "metadata": {},
     "output_type": "execute_result"
    }
   ],
   "source": [
    "df_morosidad.dtypes"
   ]
  },
  {
   "cell_type": "markdown",
   "id": "148767be",
   "metadata": {},
   "source": [
    "## Exploración de datos"
   ]
  },
  {
   "cell_type": "markdown",
   "id": "e906c24b",
   "metadata": {},
   "source": [
    "Con el fin de ayudar a recuperar la cartera vencida del Banco, se realizan 2 tipos de campañas para ayudar a aliviar ya sea los intereses o el plazo de pago de las cuotas restantes. Estas campañas son:\n",
    "\n",
    "1. **Diferimiento**: Es una medida mediante la cual una entidad financiera pospone temporalmente el pago de una o más cuotas de un crédito, sin que eso implique que el cliente ha incumplido. Esta campaña se aplicará en clientes que tengan entre 21 y 60 días en mora.\n",
    "2. **Normalización**: Es un proceso mediante el cual una entidad financiera busca reconducir un crédito moroso a un estado \"al día\", generalmente a través de reestructuración, refinanciamiento o acuerdos de pago según la capacidad real del cliente. Esta campaña se aplicará en clientes que tengan entre 10 y 20 días en mora.\n",
    "\n",
    "El siguiente paso consiste en crear una columna condicional que refleje el tipo de campaña que se va a ofertar a cada cliente según la cantidad de días que el mismo se mantenga en mora."
   ]
  },
  {
   "cell_type": "code",
   "execution_count": 35,
   "id": "ef2dcca1",
   "metadata": {},
   "outputs": [],
   "source": [
    "condiciones = [\n",
    "    (df_morosidad[\"dias_mora\"] >= 10) & (df_morosidad[\"dias_mora\"] <= 20),\n",
    "    (df_morosidad[\"dias_mora\"] >= 21) & (df_morosidad[\"dias_mora\"] <= 60)\n",
    "]\n",
    "\n",
    "resultados = [\"DIFERIMIENTO\", \"NORMALIZACIÓN\"]\n",
    "df_morosidad[\"tipo_mora\"] = np.select(condiciones, resultados, default=\"NO_APLICA\")"
   ]
  },
  {
   "cell_type": "code",
   "execution_count": null,
   "id": "2c8131dd",
   "metadata": {},
   "outputs": [],
   "source": []
  }
 ],
 "metadata": {
  "kernelspec": {
   "display_name": "base",
   "language": "python",
   "name": "python3"
  },
  "language_info": {
   "codemirror_mode": {
    "name": "ipython",
    "version": 3
   },
   "file_extension": ".py",
   "mimetype": "text/x-python",
   "name": "python",
   "nbconvert_exporter": "python",
   "pygments_lexer": "ipython3",
   "version": "3.12.4"
  }
 },
 "nbformat": 4,
 "nbformat_minor": 5
}
