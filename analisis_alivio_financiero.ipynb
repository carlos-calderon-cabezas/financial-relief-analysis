{
 "cells": [
  {
   "cell_type": "markdown",
   "id": "f3edad04",
   "metadata": {},
   "source": [
    "# Análisis de campañas de alivio financiero y propuesta para recuperación de cartera vencida en una entidad financiera"
   ]
  },
  {
   "cell_type": "markdown",
   "id": "60ebed4a",
   "metadata": {},
   "source": [
    "# *PROYECTO EN CONSTRUCCIÓN*\n",
    "\n",
    "<img width=\"400\" alt=\"image\" src=\"https://github.com/user-attachments/assets/8a1e13c2-ff85-4c60-9ca3-51979bd4326a\" />"
   ]
  },
  {
   "cell_type": "markdown",
   "id": "f3548883",
   "metadata": {},
   "source": [
    "## Breve descripción y alcance del proyecto"
   ]
  },
  {
   "cell_type": "markdown",
   "id": "63cddf11",
   "metadata": {},
   "source": [
    "En el presente proyecto, se realiza el análisis de los datos correspondientes a una campaña que realiza la entidad financiera, a la cual se la referirá mediante el nombre ficticio ***Banco XYZ***, con el fin de recuperar al menos un 60% de su cartera vencida.\n",
    "\n",
    "Este inconveniente le afecta al Banco dado que en el último semestre ha existido una baja de más del 15% en utilidades en comparación con el período anterior y se ha determinado mediante los reportes de auditoría interna que el **Departamento de Cobranzas** es uno de los que más fuertemente han contibuído a este déficit en las utilidades.\n",
    "\n",
    "Una de las principales razones que generan las pérdidas en este departamento es la **Gestión de cartera vencida*, razón por la cual se realiza este análisis sobre las campañas de alivio financiero ofertadas previamente por el banco, llamadas *diferimiento* y *normalización*, mismas que han tenido baja efectividad en cuanto a recuperación monetaria frente a las metas previamente establecida.\n",
    "\n",
    "Se van a responder a las siguientes preguntas para poder entender de mejor manera cuál es el problema actual, sus causas y de que manera se podría brindar una solución que satizfaga las necesidades del **Departamento de Cobranzas del Banco XYZ** sin descuidar el bienestar del cliente:\n",
    "\n",
    "1. ¿Qué perfiles de clientes están siendo atendidos por cada campaña y canal?\n",
    "2. ¿Cómo se distribuye la deuda según diferentes variables de análisis?\n",
    "2. ¿Cómo podría optimizarse el enfoque actual para mejorar la efectividad de las campañas?\n",
    "\n",
    "Para ofrecer una posible solución al **Departamento de Cobranzas** se va a centrar el enfoque en base a que tipos de perfiles tienen mayor deuda, por más tiempo, dónde se concentran más deudores demográficamente, si es que es necesario modificar las campañas actualmente ofrecidas por el Banco, ofrecer incentivos a los clientes para que se pongan al días con sus deudas de igual manera en base a determinados parámetros o variables, etc.\n",
    "\n",
    "**Nota:** *A lo largo del presente reporte se analizan datos reales, mismos que han sido debidamente ofuscados y/u omitidos intencionalmente con el fin de proteger posible información sensible, así como por mantener respeto y apego hacia las leyes de protección de datos tanto locales como internacionales.*"
   ]
  },
  {
   "cell_type": "markdown",
   "id": "d2a0ba55",
   "metadata": {},
   "source": [
    "## Importación inicial de librerías y carga del **dataset**"
   ]
  },
  {
   "cell_type": "markdown",
   "id": "1762a56e",
   "metadata": {},
   "source": [
    "Se importa la librería *pandas*, se carga el dataset y se muestran sus parámetros descriptivos incluyendo sus primeras filas, información general de tipos de datos, evaluación inicial de valores nulos, así como estadísticas descriptivas preliminares que otorga esta librería."
   ]
  },
  {
   "cell_type": "code",
   "execution_count": 1,
   "id": "deab7dd0",
   "metadata": {},
   "outputs": [],
   "source": [
    "import pandas as pd\n",
    "import numpy as np\n",
    "import matplotlib.pyplot as plt\n",
    "import seaborn as sns"
   ]
  },
  {
   "cell_type": "code",
   "execution_count": 2,
   "id": "1e539efc",
   "metadata": {},
   "outputs": [],
   "source": [
    "df_morosidad = pd.read_csv(\"df_morosidad.csv\")"
   ]
  },
  {
   "cell_type": "markdown",
   "id": "0401e0bb",
   "metadata": {},
   "source": [
    "## Limpieza y preprocesamiento de la información"
   ]
  },
  {
   "cell_type": "markdown",
   "id": "3cffe721",
   "metadata": {},
   "source": [
    "En este análisis se va a revisar la calidad y consistencia de la información de entrada, incluyendo la posible existencia de valores nulos o en blanco, datos atípicos, entre otros."
   ]
  },
  {
   "cell_type": "code",
   "execution_count": 3,
   "id": "e17a6715",
   "metadata": {},
   "outputs": [
    {
     "data": {
      "text/html": [
       "<div>\n",
       "<style scoped>\n",
       "    .dataframe tbody tr th:only-of-type {\n",
       "        vertical-align: middle;\n",
       "    }\n",
       "\n",
       "    .dataframe tbody tr th {\n",
       "        vertical-align: top;\n",
       "    }\n",
       "\n",
       "    .dataframe thead th {\n",
       "        text-align: right;\n",
       "    }\n",
       "</style>\n",
       "<table border=\"1\" class=\"dataframe\">\n",
       "  <thead>\n",
       "    <tr style=\"text-align: right;\">\n",
       "      <th></th>\n",
       "      <th>codigo_cliente</th>\n",
       "      <th>rango_morosidad</th>\n",
       "      <th>monto_credito</th>\n",
       "      <th>monto_por_vencer</th>\n",
       "      <th>monto_vencido</th>\n",
       "      <th>intereses</th>\n",
       "      <th>producto_host</th>\n",
       "      <th>dias_mora</th>\n",
       "      <th>gestor</th>\n",
       "      <th>recibe_sueldo_fijo</th>\n",
       "      <th>provincia_cliente</th>\n",
       "      <th>region</th>\n",
       "      <th>sector_general</th>\n",
       "    </tr>\n",
       "  </thead>\n",
       "  <tbody>\n",
       "    <tr>\n",
       "      <th>0</th>\n",
       "      <td>DNI-9502992</td>\n",
       "      <td>31 - 60 DIAS</td>\n",
       "      <td>8000.0</td>\n",
       "      <td>5946.52</td>\n",
       "      <td>0.00</td>\n",
       "      <td>143.94</td>\n",
       "      <td>PRECISO</td>\n",
       "      <td>36</td>\n",
       "      <td>RED COMERCIAL</td>\n",
       "      <td>SÍ</td>\n",
       "      <td>PICHINCHA</td>\n",
       "      <td>SIERRA</td>\n",
       "      <td>SECTOR PÚBLICO</td>\n",
       "    </tr>\n",
       "    <tr>\n",
       "      <th>1</th>\n",
       "      <td>DNI-5110681</td>\n",
       "      <td>16 - 30 DIAS</td>\n",
       "      <td>5671.0</td>\n",
       "      <td>0.00</td>\n",
       "      <td>94.16</td>\n",
       "      <td>98.97</td>\n",
       "      <td>PRECISO</td>\n",
       "      <td>22</td>\n",
       "      <td>DIGITAL</td>\n",
       "      <td>NO</td>\n",
       "      <td>PICHINCHA</td>\n",
       "      <td>SIERRA</td>\n",
       "      <td>TRANSPORTE Y LOGÍSTICA</td>\n",
       "    </tr>\n",
       "    <tr>\n",
       "      <th>2</th>\n",
       "      <td>DNI-6527606</td>\n",
       "      <td>6 - 15 DIAS</td>\n",
       "      <td>5010.0</td>\n",
       "      <td>0.00</td>\n",
       "      <td>76.97</td>\n",
       "      <td>148.94</td>\n",
       "      <td>PRECISO</td>\n",
       "      <td>10</td>\n",
       "      <td>DIGITAL</td>\n",
       "      <td>NO</td>\n",
       "      <td>GUAYAS</td>\n",
       "      <td>COSTA</td>\n",
       "      <td>COMERCIO</td>\n",
       "    </tr>\n",
       "    <tr>\n",
       "      <th>3</th>\n",
       "      <td>DNI-5095519</td>\n",
       "      <td>16 - 30 DIAS</td>\n",
       "      <td>5000.0</td>\n",
       "      <td>0.00</td>\n",
       "      <td>146.04</td>\n",
       "      <td>65.76</td>\n",
       "      <td>PRECISO</td>\n",
       "      <td>23</td>\n",
       "      <td>DIGITAL</td>\n",
       "      <td>NO</td>\n",
       "      <td>PICHINCHA</td>\n",
       "      <td>SIERRA</td>\n",
       "      <td>COMERCIO</td>\n",
       "    </tr>\n",
       "    <tr>\n",
       "      <th>4</th>\n",
       "      <td>DNI-9856629</td>\n",
       "      <td>16 - 30 DIAS</td>\n",
       "      <td>6677.0</td>\n",
       "      <td>5511.13</td>\n",
       "      <td>0.00</td>\n",
       "      <td>127.39</td>\n",
       "      <td>PRECISO</td>\n",
       "      <td>28</td>\n",
       "      <td>RED COMERCIAL</td>\n",
       "      <td>NO</td>\n",
       "      <td>PICHINCHA</td>\n",
       "      <td>SIERRA</td>\n",
       "      <td>SERVICIOS</td>\n",
       "    </tr>\n",
       "  </tbody>\n",
       "</table>\n",
       "</div>"
      ],
      "text/plain": [
       "  codigo_cliente rango_morosidad  monto_credito  monto_por_vencer  \\\n",
       "0    DNI-9502992    31 - 60 DIAS         8000.0           5946.52   \n",
       "1    DNI-5110681    16 - 30 DIAS         5671.0              0.00   \n",
       "2    DNI-6527606     6 - 15 DIAS         5010.0              0.00   \n",
       "3    DNI-5095519    16 - 30 DIAS         5000.0              0.00   \n",
       "4    DNI-9856629    16 - 30 DIAS         6677.0           5511.13   \n",
       "\n",
       "   monto_vencido  intereses producto_host  dias_mora         gestor  \\\n",
       "0           0.00     143.94       PRECISO         36  RED COMERCIAL   \n",
       "1          94.16      98.97       PRECISO         22        DIGITAL   \n",
       "2          76.97     148.94       PRECISO         10        DIGITAL   \n",
       "3         146.04      65.76       PRECISO         23        DIGITAL   \n",
       "4           0.00     127.39       PRECISO         28  RED COMERCIAL   \n",
       "\n",
       "  recibe_sueldo_fijo provincia_cliente  region          sector_general  \n",
       "0                 SÍ         PICHINCHA  SIERRA          SECTOR PÚBLICO  \n",
       "1                 NO         PICHINCHA  SIERRA  TRANSPORTE Y LOGÍSTICA  \n",
       "2                 NO            GUAYAS   COSTA                COMERCIO  \n",
       "3                 NO         PICHINCHA  SIERRA                COMERCIO  \n",
       "4                 NO         PICHINCHA  SIERRA               SERVICIOS  "
      ]
     },
     "execution_count": 3,
     "metadata": {},
     "output_type": "execute_result"
    }
   ],
   "source": [
    "df_morosidad.head()"
   ]
  },
  {
   "cell_type": "code",
   "execution_count": 4,
   "id": "a998b0ca",
   "metadata": {},
   "outputs": [
    {
     "name": "stdout",
     "output_type": "stream",
     "text": [
      "<class 'pandas.core.frame.DataFrame'>\n",
      "RangeIndex: 4115 entries, 0 to 4114\n",
      "Data columns (total 13 columns):\n",
      " #   Column              Non-Null Count  Dtype  \n",
      "---  ------              --------------  -----  \n",
      " 0   codigo_cliente      4115 non-null   object \n",
      " 1   rango_morosidad     4115 non-null   object \n",
      " 2   monto_credito       4115 non-null   float64\n",
      " 3   monto_por_vencer    4115 non-null   float64\n",
      " 4   monto_vencido       4115 non-null   float64\n",
      " 5   intereses           4115 non-null   float64\n",
      " 6   producto_host       4115 non-null   object \n",
      " 7   dias_mora           4115 non-null   int64  \n",
      " 8   gestor              4115 non-null   object \n",
      " 9   recibe_sueldo_fijo  4115 non-null   object \n",
      " 10  provincia_cliente   4090 non-null   object \n",
      " 11  region              4115 non-null   object \n",
      " 12  sector_general      4115 non-null   object \n",
      "dtypes: float64(4), int64(1), object(8)\n",
      "memory usage: 418.1+ KB\n"
     ]
    }
   ],
   "source": [
    "df_morosidad.info()"
   ]
  },
  {
   "cell_type": "code",
   "execution_count": 5,
   "id": "74fc1ca4",
   "metadata": {},
   "outputs": [
    {
     "data": {
      "text/html": [
       "<div>\n",
       "<style scoped>\n",
       "    .dataframe tbody tr th:only-of-type {\n",
       "        vertical-align: middle;\n",
       "    }\n",
       "\n",
       "    .dataframe tbody tr th {\n",
       "        vertical-align: top;\n",
       "    }\n",
       "\n",
       "    .dataframe thead th {\n",
       "        text-align: right;\n",
       "    }\n",
       "</style>\n",
       "<table border=\"1\" class=\"dataframe\">\n",
       "  <thead>\n",
       "    <tr style=\"text-align: right;\">\n",
       "      <th></th>\n",
       "      <th>monto_credito</th>\n",
       "      <th>monto_por_vencer</th>\n",
       "      <th>monto_vencido</th>\n",
       "      <th>intereses</th>\n",
       "      <th>dias_mora</th>\n",
       "    </tr>\n",
       "  </thead>\n",
       "  <tbody>\n",
       "    <tr>\n",
       "      <th>count</th>\n",
       "      <td>4115.000000</td>\n",
       "      <td>4115.000000</td>\n",
       "      <td>4115.000000</td>\n",
       "      <td>4115.000000</td>\n",
       "      <td>4115.000000</td>\n",
       "    </tr>\n",
       "    <tr>\n",
       "      <th>mean</th>\n",
       "      <td>9878.836612</td>\n",
       "      <td>3740.186309</td>\n",
       "      <td>62.604493</td>\n",
       "      <td>165.204522</td>\n",
       "      <td>26.249332</td>\n",
       "    </tr>\n",
       "    <tr>\n",
       "      <th>std</th>\n",
       "      <td>11170.864163</td>\n",
       "      <td>7052.096389</td>\n",
       "      <td>134.845050</td>\n",
       "      <td>181.270760</td>\n",
       "      <td>13.370148</td>\n",
       "    </tr>\n",
       "    <tr>\n",
       "      <th>min</th>\n",
       "      <td>1132.000000</td>\n",
       "      <td>0.000000</td>\n",
       "      <td>0.000000</td>\n",
       "      <td>9.210000</td>\n",
       "      <td>10.000000</td>\n",
       "    </tr>\n",
       "    <tr>\n",
       "      <th>25%</th>\n",
       "      <td>4449.500000</td>\n",
       "      <td>0.000000</td>\n",
       "      <td>0.000000</td>\n",
       "      <td>60.200000</td>\n",
       "      <td>15.000000</td>\n",
       "    </tr>\n",
       "    <tr>\n",
       "      <th>50%</th>\n",
       "      <td>7000.000000</td>\n",
       "      <td>1481.000000</td>\n",
       "      <td>0.000000</td>\n",
       "      <td>113.110000</td>\n",
       "      <td>23.000000</td>\n",
       "    </tr>\n",
       "    <tr>\n",
       "      <th>75%</th>\n",
       "      <td>11102.500000</td>\n",
       "      <td>5207.490000</td>\n",
       "      <td>89.695000</td>\n",
       "      <td>204.440000</td>\n",
       "      <td>35.000000</td>\n",
       "    </tr>\n",
       "    <tr>\n",
       "      <th>max</th>\n",
       "      <td>205400.000000</td>\n",
       "      <td>136155.740000</td>\n",
       "      <td>3292.470000</td>\n",
       "      <td>2439.470000</td>\n",
       "      <td>60.000000</td>\n",
       "    </tr>\n",
       "  </tbody>\n",
       "</table>\n",
       "</div>"
      ],
      "text/plain": [
       "       monto_credito  monto_por_vencer  monto_vencido    intereses  \\\n",
       "count    4115.000000       4115.000000    4115.000000  4115.000000   \n",
       "mean     9878.836612       3740.186309      62.604493   165.204522   \n",
       "std     11170.864163       7052.096389     134.845050   181.270760   \n",
       "min      1132.000000          0.000000       0.000000     9.210000   \n",
       "25%      4449.500000          0.000000       0.000000    60.200000   \n",
       "50%      7000.000000       1481.000000       0.000000   113.110000   \n",
       "75%     11102.500000       5207.490000      89.695000   204.440000   \n",
       "max    205400.000000     136155.740000    3292.470000  2439.470000   \n",
       "\n",
       "         dias_mora  \n",
       "count  4115.000000  \n",
       "mean     26.249332  \n",
       "std      13.370148  \n",
       "min      10.000000  \n",
       "25%      15.000000  \n",
       "50%      23.000000  \n",
       "75%      35.000000  \n",
       "max      60.000000  "
      ]
     },
     "execution_count": 5,
     "metadata": {},
     "output_type": "execute_result"
    }
   ],
   "source": [
    "df_morosidad.describe()"
   ]
  },
  {
   "cell_type": "markdown",
   "id": "63185dbf",
   "metadata": {},
   "source": [
    "### Verificación de posibles valores blancos o nulos"
   ]
  },
  {
   "cell_type": "code",
   "execution_count": 6,
   "id": "dc0344bb",
   "metadata": {},
   "outputs": [
    {
     "data": {
      "text/plain": [
       "codigo_cliente         0\n",
       "rango_morosidad        0\n",
       "monto_credito          0\n",
       "monto_por_vencer       0\n",
       "monto_vencido          0\n",
       "intereses              0\n",
       "producto_host          0\n",
       "dias_mora              0\n",
       "gestor                 0\n",
       "recibe_sueldo_fijo     0\n",
       "provincia_cliente     25\n",
       "region                 0\n",
       "sector_general         0\n",
       "dtype: int64"
      ]
     },
     "execution_count": 6,
     "metadata": {},
     "output_type": "execute_result"
    }
   ],
   "source": [
    "df_morosidad.isna().sum()"
   ]
  },
  {
   "cell_type": "markdown",
   "id": "7f7a910a",
   "metadata": {},
   "source": [
    "Se puede ver en la celda anterior que de manera preliminar únicamente existen valores nulos en la variable *provincia_cliente* dentro del presente conjunto de datos, sin embargo si estos registros se eliminan se estaría subestimando la deuda que el Banco debe recuperar."
   ]
  },
  {
   "cell_type": "markdown",
   "id": "d9fca491",
   "metadata": {},
   "source": [
    "### Verificación de posibles valores inconsistentes"
   ]
  },
  {
   "cell_type": "markdown",
   "id": "88120f93",
   "metadata": {},
   "source": [
    "Se realiza un análisis de los valores únicos por cada columna para determinar si podría resultar conveniente convertirlos al tipo categórico de pandas."
   ]
  },
  {
   "cell_type": "code",
   "execution_count": 7,
   "id": "30785fc0",
   "metadata": {},
   "outputs": [
    {
     "data": {
      "text/plain": [
       "codigo_cliente         object\n",
       "rango_morosidad        object\n",
       "monto_credito         float64\n",
       "monto_por_vencer      float64\n",
       "monto_vencido         float64\n",
       "intereses             float64\n",
       "producto_host          object\n",
       "dias_mora               int64\n",
       "gestor                 object\n",
       "recibe_sueldo_fijo     object\n",
       "provincia_cliente      object\n",
       "region                 object\n",
       "sector_general         object\n",
       "dtype: object"
      ]
     },
     "execution_count": 7,
     "metadata": {},
     "output_type": "execute_result"
    }
   ],
   "source": [
    "df_morosidad.dtypes"
   ]
  },
  {
   "cell_type": "code",
   "execution_count": 8,
   "id": "daa21c8c",
   "metadata": {},
   "outputs": [],
   "source": [
    "condiciones = [\n",
    "    (df_morosidad[\"dias_mora\"] >= 10) & (df_morosidad[\"dias_mora\"] <= 20),\n",
    "    (df_morosidad[\"dias_mora\"] >= 21) & (df_morosidad[\"dias_mora\"] <= 60)\n",
    "]\n",
    "\n",
    "resultados = [\"NORMALIZACIÓN\", \"DIFERIMIENTO\"]\n",
    "df_morosidad[\"tipo_campania\"] = np.select(condiciones, resultados, default=\"NO_APLICA\")"
   ]
  },
  {
   "cell_type": "code",
   "execution_count": 9,
   "id": "24ea50a2",
   "metadata": {},
   "outputs": [
    {
     "name": "stdout",
     "output_type": "stream",
     "text": [
      "Valores únicos en \"rango_morosidad\":\n",
      "['31 - 60 DIAS' '16 - 30 DIAS' '6 - 15 DIAS']\n",
      "--------------------------------------------------\n",
      "Valores únicos en \"producto_host\":\n",
      "['PRECISO' 'AUTOS' 'PRODUCTO MUJER' 'PRODUCTIVO' 'MICROFINANZAS' 'HABITAR']\n",
      "--------------------------------------------------\n",
      "Valores únicos en \"gestor\":\n",
      "['RED COMERCIAL' 'DIGITAL']\n",
      "--------------------------------------------------\n",
      "Valores únicos en \"recibe_sueldo_fijo\":\n",
      "['SÍ' 'NO']\n",
      "--------------------------------------------------\n",
      "Valores únicos en \"region\":\n",
      "['SIERRA' 'COSTA' 'AMAZONIA' 'NO_ESPECIFICADO' 'GALAPAGOS']\n",
      "--------------------------------------------------\n",
      "Valores únicos en \"sector_general\":\n",
      "['SECTOR PÚBLICO' 'TRANSPORTE Y LOGÍSTICA' 'COMERCIO' 'SERVICIOS'\n",
      " 'INDUSTRIA / MANUFACTURA' 'MINERÍA Y EXTRACCIÓN'\n",
      " 'SIN ACTIVIDAD ECONÓMICA' 'EDUCACIÓN Y SALUD' 'INDUSTRIA'\n",
      " 'SECTOR FINANCIERO' 'AGROPECUARIO' 'CONSTRUCCIÓN'\n",
      " 'TECNOLOGÍA Y TELECOMUNICACIONES']\n",
      "--------------------------------------------------\n",
      "Valores únicos en \"tipo_campania\":\n",
      "['DIFERIMIENTO' 'NORMALIZACIÓN']\n",
      "--------------------------------------------------\n"
     ]
    }
   ],
   "source": [
    "posibles_columnas_categoricas = [\n",
    "    \"rango_morosidad\",\n",
    "    \"producto_host\",\n",
    "    \"gestor\",\n",
    "    \"recibe_sueldo_fijo\",\n",
    "    \"region\",\n",
    "    \"sector_general\",\n",
    "    \"tipo_campania\"\n",
    "]\n",
    "\n",
    "for col in posibles_columnas_categoricas:\n",
    "    print(f'Valores únicos en \"{col}\":')\n",
    "    print(df_morosidad[col].unique())\n",
    "    print(\"-\" * 50)"
   ]
  },
  {
   "cell_type": "markdown",
   "id": "4fc8c10d",
   "metadata": {},
   "source": [
    "Se puede observar que no existen valores inconsistentes al haber analizado los valores únicos en cada columna las columnas o variables ***rango_morosidad***, ***producto_host***, ***gestor***, ***recibe_sueldo_fijo***, ***region*** y ***sector_general*** pueden convertirse a un tipo de variable categórico. Además la variable ***recibe_sueldo_fijo*** puede convertirse a binaria para un procesamiento más eficiente."
   ]
  },
  {
   "cell_type": "code",
   "execution_count": 10,
   "id": "672f0d96",
   "metadata": {},
   "outputs": [],
   "source": [
    "df_morosidad[posibles_columnas_categoricas] = df_morosidad[posibles_columnas_categoricas].astype(\"category\")\n",
    "df_morosidad[\"recibe_sueldo_fijo\"] = df_morosidad[\"recibe_sueldo_fijo\"]\\\n",
    "    .map({\"SI\": True, \"NO\": False}).astype(\"bool\")"
   ]
  },
  {
   "cell_type": "code",
   "execution_count": 11,
   "id": "aedba7ab",
   "metadata": {},
   "outputs": [
    {
     "data": {
      "text/plain": [
       "codigo_cliente          object\n",
       "rango_morosidad       category\n",
       "monto_credito          float64\n",
       "monto_por_vencer       float64\n",
       "monto_vencido          float64\n",
       "intereses              float64\n",
       "producto_host         category\n",
       "dias_mora                int64\n",
       "gestor                category\n",
       "recibe_sueldo_fijo        bool\n",
       "provincia_cliente       object\n",
       "region                category\n",
       "sector_general        category\n",
       "tipo_campania         category\n",
       "dtype: object"
      ]
     },
     "execution_count": 11,
     "metadata": {},
     "output_type": "execute_result"
    }
   ],
   "source": [
    "df_morosidad.dtypes"
   ]
  },
  {
   "cell_type": "markdown",
   "id": "ca2a49ee",
   "metadata": {},
   "source": [
    "Se verifican también los valores mínimos y máximos con el fin de entender cuáles de los valores no pueden ser igual a cero (0)."
   ]
  },
  {
   "cell_type": "markdown",
   "id": "056927f0",
   "metadata": {},
   "source": [
    "**Valores numéricos mínimos:**"
   ]
  },
  {
   "cell_type": "code",
   "execution_count": 12,
   "id": "151ddc81",
   "metadata": {},
   "outputs": [
    {
     "data": {
      "text/plain": [
       "monto_credito       1,132.00\n",
       "monto_por_vencer        0.00\n",
       "monto_vencido           0.00\n",
       "intereses               9.21\n",
       "dias_mora              10.00\n",
       "dtype: object"
      ]
     },
     "execution_count": 12,
     "metadata": {},
     "output_type": "execute_result"
    }
   ],
   "source": [
    "df_morosidad.select_dtypes(include=\"number\").min().apply(lambda x: f\"{x:,.2f}\")"
   ]
  },
  {
   "cell_type": "markdown",
   "id": "6c90db92",
   "metadata": {},
   "source": [
    "**Valores numéricos máximos:**"
   ]
  },
  {
   "cell_type": "code",
   "execution_count": 13,
   "id": "ad7abe18",
   "metadata": {},
   "outputs": [
    {
     "data": {
      "text/plain": [
       "monto_credito       205,400.00\n",
       "monto_por_vencer    136,155.74\n",
       "monto_vencido         3,292.47\n",
       "intereses             2,439.47\n",
       "dias_mora                60.00\n",
       "dtype: object"
      ]
     },
     "execution_count": 13,
     "metadata": {},
     "output_type": "execute_result"
    }
   ],
   "source": [
    "df_morosidad.select_dtypes(include=\"number\").max().apply(lambda x: f\"{x:,.2f}\")"
   ]
  },
  {
   "cell_type": "markdown",
   "id": "becf85da",
   "metadata": {},
   "source": [
    "**Diferencia absoluta entre monto vencido y monto por vencer:**"
   ]
  },
  {
   "cell_type": "code",
   "execution_count": 14,
   "id": "a3946da8",
   "metadata": {},
   "outputs": [
    {
     "data": {
      "text/plain": [
       "0.3"
      ]
     },
     "execution_count": 14,
     "metadata": {},
     "output_type": "execute_result"
    }
   ],
   "source": [
    "np.min(np.abs(df_morosidad[\"monto_por_vencer\"] - df_morosidad[\"monto_vencido\"]))"
   ]
  },
  {
   "cell_type": "markdown",
   "id": "80fa9189",
   "metadata": {},
   "source": [
    "Se observan algunos apectos relevantes en cuanto a estos datos, el primero es que el rango de días en mora en el *dataset* está comprendido entre 10 y 60 días, mientras que los montos por vencer y montos vencidos pueden tener valores en cero (0), sin embargo la resta de ambos jamás puede ser cero (0), esto debido a que en el presente conjunto de datos únicamente se contemplan a clientes que cuenten todavía con saldos o valores pendientes en sus préstamos a la fecha de corte del conjunto de datos.\n",
    "\n",
    "A continuación se analizará si es que existen clientes que tengan al mismo tiempo *montos vencidos* y *montos por vencer* y de ser así se determinará si se trata o no de posibles inconsistencias realizando análisis más exhaustivos de ser el caso."
   ]
  },
  {
   "cell_type": "code",
   "execution_count": 15,
   "id": "83759dc5",
   "metadata": {},
   "outputs": [
    {
     "data": {
      "text/plain": [
       "0"
      ]
     },
     "execution_count": 15,
     "metadata": {},
     "output_type": "execute_result"
    }
   ],
   "source": [
    "len(df_morosidad.query(\"monto_por_vencer != 0 and monto_vencido != 0\"))"
   ]
  },
  {
   "cell_type": "code",
   "execution_count": 16,
   "id": "dcf3e2b8",
   "metadata": {},
   "outputs": [
    {
     "name": "stdout",
     "output_type": "stream",
     "text": [
      "2251\n",
      "1864\n",
      "\n",
      "2340\n",
      "1775\n"
     ]
    }
   ],
   "source": [
    "print(len(df_morosidad.query(\"monto_vencido == 0\")))\n",
    "print(len(df_morosidad.query(\"monto_por_vencer == 0\")))\n",
    "\n",
    "print()\n",
    "\n",
    "print(len(df_morosidad.query(\"tipo_campania == 'DIFERIMIENTO'\")))\n",
    "print(len(df_morosidad.query(\"tipo_campania == 'NORMALIZACIÓN'\")))"
   ]
  },
  {
   "cell_type": "code",
   "execution_count": 17,
   "id": "4b846ae0",
   "metadata": {},
   "outputs": [
    {
     "data": {
      "text/html": [
       "<div>\n",
       "<style scoped>\n",
       "    .dataframe tbody tr th:only-of-type {\n",
       "        vertical-align: middle;\n",
       "    }\n",
       "\n",
       "    .dataframe tbody tr th {\n",
       "        vertical-align: top;\n",
       "    }\n",
       "\n",
       "    .dataframe thead th {\n",
       "        text-align: right;\n",
       "    }\n",
       "</style>\n",
       "<table border=\"1\" class=\"dataframe\">\n",
       "  <thead>\n",
       "    <tr style=\"text-align: right;\">\n",
       "      <th></th>\n",
       "      <th>monto_por_vencer_resaltado</th>\n",
       "      <th>monto_vencido_resaltado</th>\n",
       "    </tr>\n",
       "  </thead>\n",
       "  <tbody>\n",
       "    <tr>\n",
       "      <th>DIFERIMIENTO</th>\n",
       "      <td>1266</td>\n",
       "      <td>1074</td>\n",
       "    </tr>\n",
       "    <tr>\n",
       "      <th>NORMALIZACIÓN</th>\n",
       "      <td>985</td>\n",
       "      <td>790</td>\n",
       "    </tr>\n",
       "  </tbody>\n",
       "</table>\n",
       "</div>"
      ],
      "text/plain": [
       "               monto_por_vencer_resaltado  monto_vencido_resaltado\n",
       "DIFERIMIENTO                         1266                     1074\n",
       "NORMALIZACIÓN                         985                      790"
      ]
     },
     "execution_count": 17,
     "metadata": {},
     "output_type": "execute_result"
    }
   ],
   "source": [
    "resaltado = pd.DataFrame({\n",
    "    'monto_por_vencer_resaltado': [\n",
    "        len(df_morosidad.query(\"tipo_campania == 'DIFERIMIENTO' & monto_por_vencer > 0\")),\n",
    "        len(df_morosidad.query(\"tipo_campania == 'NORMALIZACIÓN' & monto_por_vencer > 0\"))\n",
    "    ],\n",
    "    'monto_vencido_resaltado': [\n",
    "        len(df_morosidad.query(\"tipo_campania == 'DIFERIMIENTO' & monto_vencido > 0\")),\n",
    "        len(df_morosidad.query(\"tipo_campania == 'NORMALIZACIÓN' & monto_vencido > 0\"))\n",
    "    ]\n",
    "}, index=['DIFERIMIENTO', 'NORMALIZACIÓN'])\n",
    "\n",
    "resaltado\n"
   ]
  },
  {
   "cell_type": "code",
   "execution_count": 18,
   "id": "8b9b1b95",
   "metadata": {},
   "outputs": [
    {
     "name": "stdout",
     "output_type": "stream",
     "text": [
      "Total monto_credito NORMALIZACIÓN:\t16,884,500.90\n",
      "Total monto_credito DIFERIMIENTO:\t23,766,911.76\n"
     ]
    }
   ],
   "source": [
    "total_normalizacion = df_morosidad.query(\"tipo_campania == 'NORMALIZACIÓN'\")[\"monto_credito\"].sum()\n",
    "total_diferimiento = df_morosidad.query(\"tipo_campania == 'DIFERIMIENTO'\")[\"monto_credito\"].sum()\n",
    "\n",
    "print(f\"Total monto_credito NORMALIZACIÓN:\\t{total_normalizacion:,.2f}\")\n",
    "print(f\"Total monto_credito DIFERIMIENTO:\\t{total_diferimiento:,.2f}\")"
   ]
  },
  {
   "cell_type": "code",
   "execution_count": 19,
   "id": "3f2bd552",
   "metadata": {},
   "outputs": [
    {
     "name": "stdout",
     "output_type": "stream",
     "text": [
      "4115\n"
     ]
    }
   ],
   "source": [
    "print(len(df_morosidad))"
   ]
  },
  {
   "cell_type": "markdown",
   "id": "60075ac5",
   "metadata": {},
   "source": [
    "Como se observa en la celda anterior, no existen registros (*clientes*) con *montos por vencer* y al mismo tiempo *montos vencidos*, lo cual indica de manera preliminar que los clientes con *montos por vencer* podrían ser clientes que todavía no caen en **mora** mientras que los clientes con *montos vencidos* serían aquellos que ya están en mora, sin emabrgo al ser este un conjunto de datos que trata sobre clientes en mora y haberse demostrado previamente que el rango de mora para todos y cada uno de los clientes se encuentra entre **10 y 60 días**, este relato no tendría sentido.\n",
    "\n",
    "Con el objetivo de ampliar el análisis se procederá a graficar la distribución de *días en mora* para entender su relación con los clientes que están en estado **POR VENCER** o **VENCIDO**. Para ello, en primer lugar se agregará una categoría llamada **estado_mora** con los estados mencionados previamente con el fin de simplificar el análisis."
   ]
  },
  {
   "cell_type": "code",
   "execution_count": 20,
   "id": "9c3da471",
   "metadata": {},
   "outputs": [],
   "source": [
    "df_morosidad[\"estado_mora\"] = np.where(\n",
    "    df_morosidad[\"monto_por_vencer\"] != 0, \"POR VENCER\", \"VENCIDO\"\n",
    ")"
   ]
  },
  {
   "cell_type": "code",
   "execution_count": 21,
   "id": "2937d3d7",
   "metadata": {},
   "outputs": [
    {
     "data": {
      "image/png": "[encoded data removed]",
      "text/plain": [
       "<Figure size 640x480 with 1 Axes>"
      ]
     },
     "metadata": {},
     "output_type": "display_data"
    }
   ],
   "source": [
    "sns.violinplot(data=df_morosidad, x=\"estado_mora\", y=\"dias_mora\")\n",
    "plt.title(\"Distribución de días de mora por estado\")\n",
    "plt.xlabel(\"Estado de mora\")\n",
    "plt.ylabel(\"Días de mora\")\n",
    "plt.show()"
   ]
  },
  {
   "cell_type": "markdown",
   "id": "b0508fdb",
   "metadata": {},
   "source": [
    "El análisis del boxplot muestra que las distribuciones de días en mora son muy similares entre los clientes con montos “por vencer” y aquellos con montos “vencidos”, tanto a nivel de mediana como de cuartiles. Esto indica que el hecho de que uno de los valores (monto_vencido o monto_por_vencer) sea cero no significa que el cliente no esté en mora, ni que la otra columna sea realmente cero. Más bien, refleja que el banco segmenta los clientes para resaltar en algunos casos los montos por vencer y en otros los montos vencidos.\n",
    "\n",
    "Asimismo, se puede inferir que el monto_credito representa el saldo pendiente a la fecha de corte, y no el crédito total inicial otorgado. La columna resaltada (monto_por_vencer o monto_vencido) se utiliza para mostrar un valor específico sin duplicar información, pero el monto_credito en realidad corresponde a la suma de ambos montos. Además, el banco no determina qué columna resaltar, es decir **POR VENCER** o **VENCIDO** basándose en los días de mora, sino que parece hacerlo según criterios internos de presentación o gestión."
   ]
  },
  {
   "cell_type": "code",
   "execution_count": 22,
   "id": "2f5d1bdc",
   "metadata": {},
   "outputs": [
    {
     "data": {
      "text/html": [
       "<div>\n",
       "<style scoped>\n",
       "    .dataframe tbody tr th:only-of-type {\n",
       "        vertical-align: middle;\n",
       "    }\n",
       "\n",
       "    .dataframe tbody tr th {\n",
       "        vertical-align: top;\n",
       "    }\n",
       "\n",
       "    .dataframe thead th {\n",
       "        text-align: right;\n",
       "    }\n",
       "</style>\n",
       "<table border=\"1\" class=\"dataframe\">\n",
       "  <thead>\n",
       "    <tr style=\"text-align: right;\">\n",
       "      <th></th>\n",
       "      <th>monto_credito</th>\n",
       "      <th>monto_vencido</th>\n",
       "      <th>monto_por_vencer</th>\n",
       "      <th>pct_vencido</th>\n",
       "      <th>pct_por_vencer</th>\n",
       "    </tr>\n",
       "  </thead>\n",
       "  <tbody>\n",
       "    <tr>\n",
       "      <th>0</th>\n",
       "      <td>8000.0</td>\n",
       "      <td>0.00</td>\n",
       "      <td>5946.52</td>\n",
       "      <td>0.0000</td>\n",
       "      <td>0.7433</td>\n",
       "    </tr>\n",
       "    <tr>\n",
       "      <th>1</th>\n",
       "      <td>5671.0</td>\n",
       "      <td>94.16</td>\n",
       "      <td>0.00</td>\n",
       "      <td>0.0166</td>\n",
       "      <td>0.0000</td>\n",
       "    </tr>\n",
       "    <tr>\n",
       "      <th>2</th>\n",
       "      <td>5010.0</td>\n",
       "      <td>76.97</td>\n",
       "      <td>0.00</td>\n",
       "      <td>0.0154</td>\n",
       "      <td>0.0000</td>\n",
       "    </tr>\n",
       "    <tr>\n",
       "      <th>3</th>\n",
       "      <td>5000.0</td>\n",
       "      <td>146.04</td>\n",
       "      <td>0.00</td>\n",
       "      <td>0.0292</td>\n",
       "      <td>0.0000</td>\n",
       "    </tr>\n",
       "    <tr>\n",
       "      <th>4</th>\n",
       "      <td>6677.0</td>\n",
       "      <td>0.00</td>\n",
       "      <td>5511.13</td>\n",
       "      <td>0.0000</td>\n",
       "      <td>0.8254</td>\n",
       "    </tr>\n",
       "  </tbody>\n",
       "</table>\n",
       "</div>"
      ],
      "text/plain": [
       "   monto_credito  monto_vencido  monto_por_vencer  pct_vencido  pct_por_vencer\n",
       "0         8000.0           0.00           5946.52       0.0000          0.7433\n",
       "1         5671.0          94.16              0.00       0.0166          0.0000\n",
       "2         5010.0          76.97              0.00       0.0154          0.0000\n",
       "3         5000.0         146.04              0.00       0.0292          0.0000\n",
       "4         6677.0           0.00           5511.13       0.0000          0.8254"
      ]
     },
     "execution_count": 22,
     "metadata": {},
     "output_type": "execute_result"
    }
   ],
   "source": [
    "# Calcular porcentajes redondeados a 4 decimales\n",
    "df_morosidad[\"pct_vencido\"] = (df_morosidad[\"monto_vencido\"] / df_morosidad[\"monto_credito\"]).round(4)\n",
    "df_morosidad[\"pct_por_vencer\"] = (df_morosidad[\"monto_por_vencer\"] / df_morosidad[\"monto_credito\"]).round(4)\n",
    "\n",
    "# Revisar los primeros registros\n",
    "df_morosidad[[\"monto_credito\", \"monto_vencido\", \"monto_por_vencer\", \"pct_vencido\", \"pct_por_vencer\"]].head()"
   ]
  },
  {
   "cell_type": "code",
   "execution_count": 23,
   "id": "d1f47094",
   "metadata": {},
   "outputs": [
    {
     "data": {
      "text/html": [
       "<div>\n",
       "<style scoped>\n",
       "    .dataframe tbody tr th:only-of-type {\n",
       "        vertical-align: middle;\n",
       "    }\n",
       "\n",
       "    .dataframe tbody tr th {\n",
       "        vertical-align: top;\n",
       "    }\n",
       "\n",
       "    .dataframe thead th {\n",
       "        text-align: right;\n",
       "    }\n",
       "</style>\n",
       "<table border=\"1\" class=\"dataframe\">\n",
       "  <thead>\n",
       "    <tr style=\"text-align: right;\">\n",
       "      <th></th>\n",
       "      <th>pct_por_vencer</th>\n",
       "      <th>pct_vencido</th>\n",
       "    </tr>\n",
       "  </thead>\n",
       "  <tbody>\n",
       "    <tr>\n",
       "      <th>count</th>\n",
       "      <td>4115.000000</td>\n",
       "      <td>4115.000000</td>\n",
       "    </tr>\n",
       "    <tr>\n",
       "      <th>mean</th>\n",
       "      <td>0.371219</td>\n",
       "      <td>0.007360</td>\n",
       "    </tr>\n",
       "    <tr>\n",
       "      <th>std</th>\n",
       "      <td>0.368415</td>\n",
       "      <td>0.010065</td>\n",
       "    </tr>\n",
       "    <tr>\n",
       "      <th>min</th>\n",
       "      <td>0.000000</td>\n",
       "      <td>0.000000</td>\n",
       "    </tr>\n",
       "    <tr>\n",
       "      <th>25%</th>\n",
       "      <td>0.000000</td>\n",
       "      <td>0.000000</td>\n",
       "    </tr>\n",
       "    <tr>\n",
       "      <th>50%</th>\n",
       "      <td>0.356100</td>\n",
       "      <td>0.000000</td>\n",
       "    </tr>\n",
       "    <tr>\n",
       "      <th>75%</th>\n",
       "      <td>0.743300</td>\n",
       "      <td>0.014300</td>\n",
       "    </tr>\n",
       "    <tr>\n",
       "      <th>max</th>\n",
       "      <td>0.989700</td>\n",
       "      <td>0.085200</td>\n",
       "    </tr>\n",
       "  </tbody>\n",
       "</table>\n",
       "</div>"
      ],
      "text/plain": [
       "       pct_por_vencer  pct_vencido\n",
       "count     4115.000000  4115.000000\n",
       "mean         0.371219     0.007360\n",
       "std          0.368415     0.010065\n",
       "min          0.000000     0.000000\n",
       "25%          0.000000     0.000000\n",
       "50%          0.356100     0.000000\n",
       "75%          0.743300     0.014300\n",
       "max          0.989700     0.085200"
      ]
     },
     "execution_count": 23,
     "metadata": {},
     "output_type": "execute_result"
    }
   ],
   "source": [
    "df_morosidad[[\"pct_por_vencer\", \"pct_vencido\"]].describe()"
   ]
  },
  {
   "cell_type": "code",
   "execution_count": 24,
   "id": "a280826c",
   "metadata": {},
   "outputs": [
    {
     "data": {
      "image/png": "[encoded data removed]",
      "text/plain": [
       "<Figure size 640x480 with 1 Axes>"
      ]
     },
     "metadata": {},
     "output_type": "display_data"
    },
    {
     "data": {
      "image/png": "[encoded data removed]",
      "text/plain": [
       "<Figure size 640x480 with 1 Axes>"
      ]
     },
     "metadata": {},
     "output_type": "display_data"
    }
   ],
   "source": [
    "sns.violinplot(data=df_morosidad, x=\"estado_mora\", y=\"pct_vencido\")\n",
    "plt.title(\"Distribución del porcentaje de monto vencido por estado\")\n",
    "plt.xlabel(\"Estado de mora\")\n",
    "plt.ylabel(\"Porcentaje de monto vencido\")\n",
    "plt.show()\n",
    "\n",
    "sns.violinplot(data=df_morosidad, x=\"estado_mora\", y=\"pct_por_vencer\")\n",
    "plt.title(\"Distribución del porcentaje de monto por vencer por estado\")\n",
    "plt.xlabel(\"Estado de mora\")\n",
    "plt.ylabel(\"Porcentaje de monto por vencer\")\n",
    "plt.show()"
   ]
  },
  {
   "cell_type": "markdown",
   "id": "78f91afb",
   "metadata": {},
   "source": [
    "Se asumirá por propósitos de simplificación que *monto_credito* es el resultante de suman *monto_por_vencer* y *motno_vencido* "
   ]
  },
  {
   "cell_type": "markdown",
   "id": "ccfde7c0",
   "metadata": {},
   "source": []
  },
  {
   "cell_type": "code",
   "execution_count": 59,
   "id": "c6b5b916",
   "metadata": {},
   "outputs": [
    {
     "data": {
      "image/png": "[encoded data removed]",
      "text/plain": [
       "<Figure size 640x480 with 1 Axes>"
      ]
     },
     "metadata": {},
     "output_type": "display_data"
    }
   ],
   "source": [
    "sns.histplot(df_morosidad.query(\"pct_por_vencer != 0\")[\"pct_por_vencer\"])\n",
    "plt.show()"
   ]
  },
  {
   "cell_type": "code",
   "execution_count": 55,
   "id": "c1be9b99",
   "metadata": {},
   "outputs": [
    {
     "data": {
      "image/png": "[encoded data removed]",
      "text/plain": [
       "<Figure size 640x480 with 1 Axes>"
      ]
     },
     "metadata": {},
     "output_type": "display_data"
    }
   ],
   "source": [
    "sns.violinplot(df_morosidad.query(\"pct_vencido != 0\")[\"pct_vencido\"])\n",
    "plt.show()"
   ]
  },
  {
   "cell_type": "markdown",
   "id": "148767be",
   "metadata": {},
   "source": [
    "## Exploración de datos"
   ]
  },
  {
   "cell_type": "markdown",
   "id": "e906c24b",
   "metadata": {},
   "source": [
    "Con el fin de ayudar a recuperar la cartera vencida, el **Banco XYZ** propuso originalmente realizar 2 tipos de campañas para ayudar a los deudores en estado de mora a aliviar ya sea los intereses o el plazo de pago de las cuotas restantes de sus deudas. Estas campañas son:\n",
    "\n",
    "1. **Diferimiento**: Es una medida mediante la cual una entidad financiera pospone temporalmente el pago de una o más cuotas de un crédito, sin que eso implique que el cliente ha incumplido. Esta campaña se aplicará en clientes que tengan entre 21 y 60 días en mora.\n",
    "2. **Normalización**: Es un proceso mediante el cual una entidad financiera busca reconducir un crédito moroso a un estado \"al día\", generalmente a través de reestructuración, refinanciamiento o acuerdos de pago según la capacidad real del cliente. Esta campaña se aplicará en clientes que tengan entre 10 y 20 días en mora.\n",
    "\n",
    "*Más adelante en este documento se evaluará si es necesario realizar ajustes en los rangos de **días en mora** requeridos para calificar a cualquiera de estas campañas.*\n",
    "\n",
    "El siguiente paso consiste en crear una columna condicional que refleje el tipo de campaña que se va a ofertar a cada cliente según la cantidad de días que el mismo se mantenga en mora."
   ]
  },
  {
   "cell_type": "code",
   "execution_count": null,
   "id": "ef2dcca1",
   "metadata": {},
   "outputs": [],
   "source": []
  },
  {
   "cell_type": "code",
   "execution_count": null,
   "id": "4e365721",
   "metadata": {},
   "outputs": [],
   "source": []
  },
  {
   "cell_type": "code",
   "execution_count": 26,
   "id": "2480e581",
   "metadata": {},
   "outputs": [],
   "source": [
    "# df_morosidad[\"tipo_campania\"].value_counts()"
   ]
  },
  {
   "cell_type": "markdown",
   "id": "52ce9bfe",
   "metadata": {},
   "source": [
    "### Clientes por tipo de campaña"
   ]
  },
  {
   "cell_type": "code",
   "execution_count": 27,
   "id": "f253eb84",
   "metadata": {},
   "outputs": [],
   "source": [
    "# plt.figure(figsize=(4, 3))\n",
    "# sns.countplot(\n",
    "#     data=df_morosidad,\n",
    "#     x=\"tipo_campania\"\n",
    "# )\n",
    "\n",
    "# plt.title(\"Clientes por tipo de campaña\")\n",
    "# plt.ylabel(\"Cantidad de clientes\")\n",
    "# plt.xlabel(\"Campaña\")\n",
    "# plt.show()"
   ]
  },
  {
   "cell_type": "code",
   "execution_count": 28,
   "id": "728edfe3",
   "metadata": {},
   "outputs": [],
   "source": [
    "# plt.figure(figsize=(4, 3))\n",
    "# sns.countplot(\n",
    "#     data=df_morosidad,\n",
    "#     x=\"tipo_campania\"\n",
    "# )\n",
    "\n",
    "# plt.title(\"Clientes por tipo de campaña\")\n",
    "# plt.ylabel(\"Cantidad de clientes\")\n",
    "# plt.xlabel(\"Campaña\")\n",
    "# plt.show()"
   ]
  },
  {
   "cell_type": "markdown",
   "id": "04d6d0cd",
   "metadata": {},
   "source": [
    "### Análisis por Canal de Gestión"
   ]
  },
  {
   "cell_type": "code",
   "execution_count": 29,
   "id": "15834887",
   "metadata": {},
   "outputs": [],
   "source": [
    "# plt.figure(figsize=(5.5, 3.5))\n",
    "\n",
    "# sns.countplot(\n",
    "#     data=df_morosidad,\n",
    "#     x=\"tipo_campania\",\n",
    "#     hue=\"gestor\"\n",
    "# )\n",
    "\n",
    "# plt.title(\"Clientes por campaña y canal de atención\")\n",
    "# plt.ylabel(\"Cantidad de clientes\")\n",
    "# plt.xlabel(\"Campaña\")\n",
    "# plt.legend(title=\"Canal\")\n",
    "# plt.show()"
   ]
  },
  {
   "cell_type": "code",
   "execution_count": 30,
   "id": "721a1d57",
   "metadata": {},
   "outputs": [],
   "source": [
    "# sns.countplot(\n",
    "#     data=df_morosidad,\n",
    "#     x=\"tipo_campania\",\n",
    "#     hue=\"recibe_sueldo_fijo\"\n",
    "# )\n",
    "# plt.title(\"Clientes con/sin sueldo fijo por campaña\")\n",
    "# plt.ylabel(\"Cantidad de clientes\")\n",
    "# plt.xlabel(\"Campaña\")\n",
    "# plt.legend(title=\"Recibe sueldo fijo\")\n",
    "# plt.show()"
   ]
  },
  {
   "cell_type": "code",
   "execution_count": 31,
   "id": "1f25ac3d",
   "metadata": {},
   "outputs": [],
   "source": [
    "# sns.scatterplot(data=df_morosidad, x=\"dias_mora\", y=\"monto_vencido\", hue=\"tipo_campania\")\n",
    "# plt.title(\"Días de mora vs Monto vencido\")\n",
    "# plt.xlabel(\"Días en mora\")\n",
    "# plt.ylabel(\"Monto vencido ($)\")\n",
    "# plt.legend(title=\"Campaña\")\n",
    "# plt.show()"
   ]
  },
  {
   "cell_type": "markdown",
   "id": "b181ed56",
   "metadata": {},
   "source": [
    "Se puede observar que en la campaña de **DIFERIMIENTO** predominan deudas bajas entre USD 100 y USD 500 aproximadamente, con variabilidad relativamente baja al existir pocos valores extremos.\n",
    "\n",
    "Por otro lado, en el caso de la campaña de **NORMALIZACIÓN** el monto vencido promedio se muestra ligeramente más alto, con una mayor presencia de valores atípicos, rondando en algunos casos valores por encima de USD 1000 y en ocasiones incluso USD 3000.\n",
    "\n",
    "Se puede ver entonces de manera preliminar que estos clientes representan un riesgo de impago más alto para el banco, por lo cual se podría considerar para la campaña de **NORMALIZACIÓN** plantear una estrategia correctiva mientras que en **DIFERIMIENTO** podría ser todavía una estrategia preventiva."
   ]
  },
  {
   "cell_type": "code",
   "execution_count": 32,
   "id": "8679104a",
   "metadata": {},
   "outputs": [],
   "source": [
    "# provincia_counts = df_morosidad[\"region\"].value_counts().sort_values()\n",
    "# provincia_counts.plot(kind=\"barh\", figsize=(8,6))\n",
    "# plt.title(\"Clientes por región\")\n",
    "# plt.xlabel(\"Cantidad de clientes\")\n",
    "# plt.ylabel(\"Región\")\n",
    "# plt.show()"
   ]
  },
  {
   "cell_type": "code",
   "execution_count": 33,
   "id": "2f066e2a",
   "metadata": {},
   "outputs": [],
   "source": [
    "# provincia_counts = df_morosidad[\"provincia_cliente\"].value_counts().sort_values()\\\n",
    "# .nlargest(6)\n",
    "# provincia_counts.plot(kind=\"barh\", figsize=(5,3))\n",
    "# plt.title(\"Clientes por región\")\n",
    "# plt.xlabel(\"Cantidad de clientes\")\n",
    "# plt.ylabel(\"Provincia\")\n",
    "# plt.show()"
   ]
  },
  {
   "cell_type": "code",
   "execution_count": 34,
   "id": "31c8a75a",
   "metadata": {},
   "outputs": [],
   "source": [
    "# plt.figure(figsize=(10,6))\n",
    "# sns.countplot(\n",
    "#     data=df_morosidad,\n",
    "#     y=\"sector_general\",\n",
    "#     hue=\"tipo_campania\",\n",
    "#     order=df_morosidad[\"sector_general\"].value_counts().index\n",
    "# )\n",
    "# plt.title(\"Clientes por sector económico y campaña\")\n",
    "# plt.xlabel(\"Cantidad de clientes\")\n",
    "# plt.ylabel(\"Sector económico\")\n",
    "# plt.legend(title=\"Campaña\")\n",
    "# plt.show()"
   ]
  },
  {
   "cell_type": "code",
   "execution_count": 35,
   "id": "4dddb1bb",
   "metadata": {},
   "outputs": [],
   "source": [
    "# print(\"Total de clientes:\\t\\t\", len(df_morosidad))\n",
    "# print(f\"Total monto vencido: \\t\\t${df_morosidad['monto_vencido'].sum():,.2f}\")\n",
    "# print(f\"Total intereses acumulados: \\t${df_morosidad['intereses'].sum():,.2f}\")\n",
    "# print(\"Clientes con sueldo fijo:\\t\", df_morosidad[df_morosidad[\"recibe_sueldo_fijo\"] == True].shape[0])"
   ]
  },
  {
   "cell_type": "code",
   "execution_count": 36,
   "id": "037e0f5f",
   "metadata": {},
   "outputs": [],
   "source": [
    "# df_morosidad[['monto_credito', 'monto_por_vencer', 'monto_vencido']].sum() \\\n",
    "# .apply(lambda x: f\"$ {x:,.2f}\")"
   ]
  },
  {
   "cell_type": "code",
   "execution_count": 37,
   "id": "cb79723a",
   "metadata": {},
   "outputs": [],
   "source": [
    "# df_morosidad[['monto_credito', 'monto_por_vencer', 'monto_vencido', 'intereses']].sum() \\\n",
    "# .plot(kind= \"bar\")\n",
    "\n",
    "# plt.show()"
   ]
  },
  {
   "cell_type": "code",
   "execution_count": 38,
   "id": "df04a679",
   "metadata": {},
   "outputs": [],
   "source": [
    "# fig, axes = plt.subplots(1, 3, figsize=(15, 5))\n",
    "\n",
    "# # 1er gráfico: monto_credito vs intereses\n",
    "# axes[0].scatter(df_morosidad[\"monto_credito\"], df_morosidad[\"intereses\"])\n",
    "# axes[0].set_title(\"Monto crédito vs Intereses\")\n",
    "# axes[0].set_xlabel(\"Monto del crédito\")\n",
    "# axes[0].set_ylabel(\"Intereses\")\n",
    "\n",
    "# # 2do gráfico: monto_por_vencer vs intereses\n",
    "# axes[1].scatter(df_morosidad[\"monto_por_vencer\"], df_morosidad[\"intereses\"], color=\"orange\")\n",
    "# axes[1].set_title(\"Monto por vencer vs Intereses\")\n",
    "# axes[1].set_xlabel(\"Monto por vencer\")\n",
    "# axes[1].set_ylabel(\"Intereses\")\n",
    "\n",
    "# # 3er gráfico: monto_vencido vs intereses\n",
    "# axes[2].scatter(df_morosidad[\"monto_vencido\"], df_morosidad[\"intereses\"], color=\"green\")\n",
    "# axes[2].set_title(\"Monto vencido vs Intereses\")\n",
    "# axes[2].set_xlabel(\"Monto vencido\")\n",
    "# axes[2].set_ylabel(\"Intereses\")\n",
    "\n",
    "# plt.tight_layout()\n",
    "# plt.show()"
   ]
  },
  {
   "cell_type": "code",
   "execution_count": 39,
   "id": "f535eeb6",
   "metadata": {},
   "outputs": [],
   "source": [
    "# plt.scatter(df_morosidad[\"dias_mora\"], df_morosidad[\"intereses\"])\n",
    "# plt.title(\"Scatter Días Mora vs. Intereses\")\n",
    "# plt.xlabel(\"Días Mora\")\n",
    "# plt.ylabel(\"Intereses\")\n",
    "# plt.show()"
   ]
  },
  {
   "cell_type": "code",
   "execution_count": 40,
   "id": "c9bf1554",
   "metadata": {},
   "outputs": [],
   "source": [
    "# df_morosidad.groupby([\"tipo_campania\"], observed=True)\\\n",
    "#     [['monto_credito', 'monto_por_vencer', 'monto_vencido', 'intereses']].sum()"
   ]
  },
  {
   "cell_type": "code",
   "execution_count": 41,
   "id": "cc7a0ad1",
   "metadata": {},
   "outputs": [],
   "source": [
    "# df_morosidad[['monto_vencido', 'intereses']].sum() \\\n",
    "# .plot(kind= \"bar\")\n",
    "\n",
    "# plt.show()"
   ]
  },
  {
   "cell_type": "code",
   "execution_count": 42,
   "id": "3eb50a99",
   "metadata": {},
   "outputs": [],
   "source": [
    "# df_morosidad[['monto_credito', 'monto_por_vencer', 'monto_vencido', 'dias_mora']].head(10)"
   ]
  },
  {
   "cell_type": "code",
   "execution_count": 43,
   "id": "c4ca1366",
   "metadata": {},
   "outputs": [],
   "source": [
    "# df_morosidad[['monto_credito', 'monto_por_vencer', 'monto_vencido', 'dias_mora']].describe()"
   ]
  },
  {
   "cell_type": "code",
   "execution_count": 44,
   "id": "8417eab2",
   "metadata": {},
   "outputs": [],
   "source": [
    "# (df_morosidad['monto_vencido'] / df_morosidad['monto_credito']).describe()"
   ]
  },
  {
   "cell_type": "code",
   "execution_count": null,
   "id": "ee86e542",
   "metadata": {},
   "outputs": [],
   "source": []
  }
 ],
 "metadata": {
  "kernelspec": {
   "display_name": "base",
   "language": "python",
   "name": "python3"
  },
  "language_info": {
   "codemirror_mode": {
    "name": "ipython",
    "version": 3
   },
   "file_extension": ".py",
   "mimetype": "text/x-python",
   "name": "python",
   "nbconvert_exporter": "python",
   "pygments_lexer": "ipython3",
   "version": "3.12.4"
  }
 },
 "nbformat": 4,
 "nbformat_minor": 5
}
