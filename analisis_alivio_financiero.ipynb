{
 "cells": [
  {
   "cell_type": "markdown",
   "id": "f3edad04",
   "metadata": {},
   "source": [
    "# Análisis de campañas de alivio financiero y propuesta para recuperación de cartera vencida en una entidad financiera"
   ]
  },
  {
   "cell_type": "markdown",
   "id": "f3548883",
   "metadata": {},
   "source": [
    "## Breve descripción del proyecto"
   ]
  },
  {
   "cell_type": "markdown",
   "id": "63cddf11",
   "metadata": {},
   "source": [
    "En el presente proyecto, se realiza el análisis de los datos correspondientes a una campaña que realiza la entidad financiera, a la cual se la referirá mediante el nombre ficticio ***Mi Banco Feliz***, cuyo objetivo es lanzar 2 campañas en pro de sus clientes en estado de mora a fin de recuperar más de un 60% de la cartera vencida que se mantiene con corte a la fecha de este proyecto, es decir, Junio de 2025.\n",
    "\n",
    "Se realiza este análisis debido a que las campañas de alivio financiero, llamadas diferimiento y normalización, han tenido baja efectividad en cuanto a recuperación monetaria frente a las metas previamente establecidas por el departamento de cobranzas de la Entidad.\n",
    "\n",
    "Se van a responder a las siguientes preguntas para poder entender de mejor manera cuál es el problema actual y de que manera se podría brindar una solución que satizfaga tanto las necesidades del Banco sin descuidar el bienestar del cliente:\n",
    "\n",
    "1. ¿Qué perfiles de clientes están siendo atendidos por cada campaña y canal?\n",
    "2. ¿Cómo podría optimizarse el enfoque actual para mejorar la efectividad de las campañas?\n",
    "\n",
    "**Nota:** *A lo largo del presente reporte se analizan datos reales, mismos que han sido debidamente ofuscados y/o omitidos intencionalmente con el fin de proteger posible información sensible, así como por mantener respeto y apego hacia las leyes de protección de datos tanto locales como internacionales.*"
   ]
  },
  {
   "cell_type": "markdown",
   "id": "d2a0ba55",
   "metadata": {},
   "source": [
    "## Carga del conjunto de datos en Pandas"
   ]
  },
  {
   "cell_type": "markdown",
   "id": "1762a56e",
   "metadata": {},
   "source": [
    "Se importa la librería *pandas*, se carga el dataset y se muestran sus parámetros descriptivos incluyendo sus primeras filas, información general de tipos de datos, evaluación inicial de valores nulos, así como estadísticas descriptivas preliminares que otorga esta librería."
   ]
  },
  {
   "cell_type": "code",
   "execution_count": 1,
   "id": "deab7dd0",
   "metadata": {},
   "outputs": [],
   "source": [
    "import pandas as pd\n",
    "import numpy as np\n",
    "import matplotlib.pyplot as plt\n",
    "import seaborn as sns"
   ]
  },
  {
   "cell_type": "code",
   "execution_count": 2,
   "id": "1e539efc",
   "metadata": {},
   "outputs": [],
   "source": [
    "df_morosidad = pd.read_csv(\"df_morosidad.csv\")"
   ]
  },
  {
   "cell_type": "code",
   "execution_count": 3,
   "id": "8314ed88",
   "metadata": {},
   "outputs": [],
   "source": [
    "df_temp = pd.read_csv(\"temp/CasoEspecialistaCampanas.csv\")"
   ]
  },
  {
   "cell_type": "markdown",
   "id": "0401e0bb",
   "metadata": {},
   "source": [
    "## Limpieza y preprocesamiento de la información"
   ]
  },
  {
   "cell_type": "markdown",
   "id": "3cffe721",
   "metadata": {},
   "source": [
    "En este análisis se va a revisar la calidad y consistencia de la información de entrada, incluyendo la posible existencia de valores nulos o en blanco, datos atípicos, entre otros."
   ]
  },
  {
   "cell_type": "code",
   "execution_count": null,
   "id": "e17a6715",
   "metadata": {},
   "outputs": [],
   "source": [
    "df_morosidad.head()"
   ]
  },
  {
   "cell_type": "code",
   "execution_count": null,
   "id": "a998b0ca",
   "metadata": {},
   "outputs": [],
   "source": [
    "df_morosidad.info()"
   ]
  },
  {
   "cell_type": "code",
   "execution_count": null,
   "id": "74fc1ca4",
   "metadata": {},
   "outputs": [],
   "source": [
    "df_morosidad.describe()"
   ]
  },
  {
   "cell_type": "markdown",
   "id": "63185dbf",
   "metadata": {},
   "source": [
    "### Verificación de posibles valores blancos o nulos"
   ]
  },
  {
   "cell_type": "code",
   "execution_count": null,
   "id": "dc0344bb",
   "metadata": {},
   "outputs": [],
   "source": [
    "df_morosidad.isna().sum()"
   ]
  },
  {
   "cell_type": "markdown",
   "id": "7f7a910a",
   "metadata": {},
   "source": [
    "Se puede ver en la celda anterior que de manera preliminar no se cuenta con valores nulos en el presente conjunto de datos, por lo cual se procede a verificar si hay valores nulos según el contexto del negocio así como valores inconsistentes."
   ]
  },
  {
   "cell_type": "markdown",
   "id": "d9fca491",
   "metadata": {},
   "source": [
    "### Verificación de posibles valores inconsistentes"
   ]
  },
  {
   "cell_type": "markdown",
   "id": "88120f93",
   "metadata": {},
   "source": [
    "Se realiza un análisis de los valores únicos por cada columna para determinar si podría resultar conveniente convertirlos al tipo categórico de pandas."
   ]
  },
  {
   "cell_type": "code",
   "execution_count": null,
   "id": "30785fc0",
   "metadata": {},
   "outputs": [],
   "source": [
    "df_morosidad.dtypes"
   ]
  },
  {
   "cell_type": "code",
   "execution_count": null,
   "id": "24ea50a2",
   "metadata": {},
   "outputs": [],
   "source": [
    "posibles_columnas_categoricas = [\n",
    "    \"rango_morosidad\",\n",
    "    \"producto_host\",\n",
    "    \"gestor\",\n",
    "    \"recibe_sueldo_fijo\",\n",
    "    \"region\",\n",
    "    \"sector_general\"\n",
    "]\n",
    "\n",
    "for col in posibles_columnas_categoricas:\n",
    "    print(f'Valores únicos en \"{col}\":')\n",
    "    print(df_morosidad[col].unique())\n",
    "    print(\"-\" * 50)"
   ]
  },
  {
   "cell_type": "markdown",
   "id": "4fc8c10d",
   "metadata": {},
   "source": [
    "Se puede observar que no existen valores inconsistentes al haber analizado los valores únicos en cada columna las columnas o variables ***rango_morosidad***, ***producto_host***, ***gestor***, ***recibe_sueldo_fijo***, ***region*** y ***sector_general*** pueden convertirse a un tipo de variable categórico. Además la variable ***recibe_sueldo_fijo*** puede convertirse a binaria para un procesamiento más eficiente."
   ]
  },
  {
   "cell_type": "code",
   "execution_count": null,
   "id": "672f0d96",
   "metadata": {},
   "outputs": [],
   "source": [
    "df_morosidad[posibles_columnas_categoricas] = df_morosidad[posibles_columnas_categoricas].astype(\"category\")\n",
    "df_morosidad[\"recibe_sueldo_fijo\"] = df_morosidad[\"recibe_sueldo_fijo\"]\\\n",
    "    .map({\"SI\": True, \"NO\": False}).astype(\"bool\")"
   ]
  },
  {
   "cell_type": "code",
   "execution_count": null,
   "id": "aedba7ab",
   "metadata": {},
   "outputs": [],
   "source": [
    "df_morosidad.dtypes"
   ]
  },
  {
   "cell_type": "markdown",
   "id": "148767be",
   "metadata": {},
   "source": [
    "## Exploración de datos"
   ]
  },
  {
   "cell_type": "markdown",
   "id": "e906c24b",
   "metadata": {},
   "source": [
    "Con el fin de ayudar a recuperar la cartera vencida del Banco, se realizan 2 tipos de campañas para ayudar a aliviar ya sea los intereses o el plazo de pago de las cuotas restantes. Estas campañas son:\n",
    "\n",
    "1. **Diferimiento**: Es una medida mediante la cual una entidad financiera pospone temporalmente el pago de una o más cuotas de un crédito, sin que eso implique que el cliente ha incumplido. Esta campaña se aplicará en clientes que tengan entre 21 y 60 días en mora.\n",
    "2. **Normalización**: Es un proceso mediante el cual una entidad financiera busca reconducir un crédito moroso a un estado \"al día\", generalmente a través de reestructuración, refinanciamiento o acuerdos de pago según la capacidad real del cliente. Esta campaña se aplicará en clientes que tengan entre 10 y 20 días en mora.\n",
    "\n",
    "El siguiente paso consiste en crear una columna condicional que refleje el tipo de campaña que se va a ofertar a cada cliente según la cantidad de días que el mismo se mantenga en mora."
   ]
  },
  {
   "cell_type": "code",
   "execution_count": null,
   "id": "ef2dcca1",
   "metadata": {},
   "outputs": [],
   "source": [
    "condiciones = [\n",
    "    (df_morosidad[\"dias_mora\"] >= 10) & (df_morosidad[\"dias_mora\"] <= 20),\n",
    "    (df_morosidad[\"dias_mora\"] >= 21) & (df_morosidad[\"dias_mora\"] <= 60)\n",
    "]\n",
    "\n",
    "resultados = [\"DIFERIMIENTO\", \"NORMALIZACIÓN\"]\n",
    "df_morosidad[\"tipo_campania\"] = np.select(condiciones, resultados, default=\"NO_APLICA\")"
   ]
  },
  {
   "cell_type": "code",
   "execution_count": null,
   "id": "18460fff",
   "metadata": {},
   "outputs": [],
   "source": [
    "df_morosidad[\"tipo_campania\"] = df_morosidad[\"tipo_campania\"].astype(\"category\")"
   ]
  },
  {
   "cell_type": "code",
   "execution_count": null,
   "id": "2c8131dd",
   "metadata": {},
   "outputs": [],
   "source": [
    "df_morosidad.sample(5)"
   ]
  },
  {
   "cell_type": "code",
   "execution_count": null,
   "id": "2480e581",
   "metadata": {},
   "outputs": [],
   "source": [
    "df_morosidad[\"tipo_campania\"].value_counts()"
   ]
  },
  {
   "cell_type": "markdown",
   "id": "52ce9bfe",
   "metadata": {},
   "source": [
    "### Cleintes por tipo de campaña"
   ]
  },
  {
   "cell_type": "code",
   "execution_count": null,
   "id": "f253eb84",
   "metadata": {},
   "outputs": [],
   "source": [
    "plt.figure(figsize=(4, 3))\n",
    "sns.countplot(\n",
    "    data=df_morosidad,\n",
    "    x=\"tipo_campania\"\n",
    ")\n",
    "\n",
    "plt.title(\"Clientes por tipo de campaña\")\n",
    "plt.ylabel(\"Cantidad de clientes\")\n",
    "plt.xlabel(\"Campaña\")\n",
    "plt.show()"
   ]
  },
  {
   "cell_type": "markdown",
   "id": "04d6d0cd",
   "metadata": {},
   "source": [
    "### Análisis por Canal de Gestión"
   ]
  },
  {
   "cell_type": "code",
   "execution_count": null,
   "id": "15834887",
   "metadata": {},
   "outputs": [],
   "source": [
    "plt.figure(figsize=(5.5, 3.5))\n",
    "\n",
    "sns.countplot(\n",
    "    data=df_morosidad,\n",
    "    x=\"tipo_campania\",\n",
    "    hue=\"gestor\"\n",
    ")\n",
    "\n",
    "plt.title(\"Clientes por campaña y canal de atención\")\n",
    "plt.ylabel(\"Cantidad de clientes\")\n",
    "plt.xlabel(\"Campaña\")\n",
    "plt.legend(title=\"Canal\")\n",
    "plt.show()"
   ]
  },
  {
   "cell_type": "code",
   "execution_count": null,
   "id": "1f856949",
   "metadata": {},
   "outputs": [],
   "source": [
    "pivot = df_morosidad.groupby([\"tipo_campania\", \"gestor\"], observed=True) \\\n",
    "[\"monto_vencido\"].sum().unstack()\n",
    "pivot.plot(kind=\"bar\", stacked=True)\n",
    "plt.title(\"Monto vencido por campaña y canal\")\n",
    "plt.ylabel(\"Monto vencido ($)\")\n",
    "plt.xlabel(\"Campaña\")\n",
    "plt.show()"
   ]
  },
  {
   "cell_type": "code",
   "execution_count": null,
   "id": "721a1d57",
   "metadata": {},
   "outputs": [],
   "source": [
    "sns.countplot(\n",
    "    data=df_morosidad,\n",
    "    x=\"tipo_campania\",\n",
    "    hue=\"recibe_sueldo_fijo\"\n",
    ")\n",
    "plt.title(\"Clientes con/sin sueldo fijo por campaña\")\n",
    "plt.ylabel(\"Cantidad de clientes\")\n",
    "plt.xlabel(\"Campaña\")\n",
    "plt.legend(title=\"Recibe sueldo fijo\")\n",
    "plt.show()"
   ]
  },
  {
   "cell_type": "code",
   "execution_count": null,
   "id": "1f25ac3d",
   "metadata": {},
   "outputs": [],
   "source": [
    "sns.scatterplot(data=df_morosidad, x=\"dias_mora\", y=\"monto_vencido\", hue=\"tipo_campania\")\n",
    "plt.title(\"Días de mora vs Monto vencido\")\n",
    "plt.xlabel(\"Días en mora\")\n",
    "plt.ylabel(\"Monto vencido ($)\")\n",
    "plt.legend(title=\"Campaña\")\n",
    "plt.show()"
   ]
  },
  {
   "cell_type": "code",
   "execution_count": null,
   "id": "8679104a",
   "metadata": {},
   "outputs": [],
   "source": [
    "provincia_counts = df_morosidad[\"region\"].value_counts().sort_values()\n",
    "provincia_counts.plot(kind=\"barh\", figsize=(8,6))\n",
    "plt.title(\"Clientes por región\")\n",
    "plt.xlabel(\"Cantidad de clientes\")\n",
    "plt.ylabel(\"Región\")\n",
    "plt.show()"
   ]
  },
  {
   "cell_type": "code",
   "execution_count": null,
   "id": "31c8a75a",
   "metadata": {},
   "outputs": [],
   "source": [
    "plt.figure(figsize=(10,6))\n",
    "sns.countplot(\n",
    "    data=df_morosidad,\n",
    "    y=\"sector_general\",\n",
    "    hue=\"tipo_campania\",\n",
    "    order=df_morosidad[\"sector_general\"].value_counts().index\n",
    ")\n",
    "plt.title(\"Clientes por sector económico y campaña\")\n",
    "plt.xlabel(\"Cantidad de clientes\")\n",
    "plt.ylabel(\"Sector económico\")\n",
    "plt.legend(title=\"Campaña\")\n",
    "plt.show()"
   ]
  },
  {
   "cell_type": "code",
   "execution_count": null,
   "id": "4dddb1bb",
   "metadata": {},
   "outputs": [],
   "source": [
    "print(\"Total de clientes:\", len(df_morosidad))\n",
    "print(\"Total monto vencido: $\", df_morosidad[\"monto_vencido\"].sum())\n",
    "print(\"Total intereses acumulados: $\", df_morosidad[\"intereses\"].sum())\n",
    "print(\"Clientes con sueldo fijo:\", df_morosidad[df_morosidad[\"recibe_sueldo_fijo\"] == True].shape[0])"
   ]
  },
  {
   "cell_type": "code",
   "execution_count": null,
   "id": "4091c382",
   "metadata": {},
   "outputs": [],
   "source": []
  }
 ],
 "metadata": {
  "kernelspec": {
   "display_name": "base",
   "language": "python",
   "name": "python3"
  },
  "language_info": {
   "codemirror_mode": {
    "name": "ipython",
    "version": 3
   },
   "file_extension": ".py",
   "mimetype": "text/x-python",
   "name": "python",
   "nbconvert_exporter": "python",
   "pygments_lexer": "ipython3",
   "version": "3.12.4"
  }
 },
 "nbformat": 4,
 "nbformat_minor": 5
}
